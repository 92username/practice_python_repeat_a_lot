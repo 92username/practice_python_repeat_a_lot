{
  "nbformat": 4,
  "nbformat_minor": 0,
  "metadata": {
    "colab": {
      "provenance": [],
      "authorship_tag": "ABX9TyP6T3SXhZmlh6XxPA3CDVhE",
      "include_colab_link": true
    },
    "kernelspec": {
      "name": "python3",
      "display_name": "Python 3"
    },
    "language_info": {
      "name": "python"
    }
  },
  "cells": [
    {
      "cell_type": "markdown",
      "metadata": {
        "id": "view-in-github",
        "colab_type": "text"
      },
      "source": [
        "<a href=\"https://colab.research.google.com/github/92username/practice_python_repeat_a_lot/blob/main/estruturas_de_controle_lista_1.ipynb\" target=\"_parent\"><img src=\"https://colab.research.google.com/assets/colab-badge.svg\" alt=\"Open In Colab\"/></a>"
      ]
    },
    {
      "cell_type": "markdown",
      "source": [
        "Exercícios de Estruturas de Controle"
      ],
      "metadata": {
        "id": "xJoDMlXK0CAZ"
      }
    },
    {
      "cell_type": "markdown",
      "source": [
        "Nível 1: Exercícios Muito Fáceis (Sintaxe Básica)"
      ],
      "metadata": {
        "id": "erHCVQDb0FMH"
      }
    },
    {
      "cell_type": "markdown",
      "source": [
        "\n",
        "\n",
        "Exercício 1: Crie uma variável idade e atribua o valor 18. Verifique se a idade é maior ou igual a 18 e imprima \"Maior de idade\" ou \"Menor de idade\" com base na condição.\n"
      ],
      "metadata": {
        "id": "oCUgARBQ0HZq"
      }
    },
    {
      "cell_type": "code",
      "source": [
        "IDADE = 18\n",
        "if IDADE >= 18:\n",
        "    print(\"Maior de idade\")\n",
        "else:\n",
        "    print(\"Menor de idade\")\n"
      ],
      "metadata": {
        "colab": {
          "base_uri": "https://localhost:8080/"
        },
        "id": "0-G9p9Eb0Khi",
        "outputId": "3a8292af-cea3-43f0-a4c2-371a3fc23cff"
      },
      "execution_count": 5,
      "outputs": [
        {
          "output_type": "stream",
          "name": "stdout",
          "text": [
            "Maior de idade\n"
          ]
        }
      ]
    },
    {
      "cell_type": "markdown",
      "source": [
        "Exercício 2: Crie uma variável numero e atribua um valor. Verifique se o número é positivo, negativo ou zero, e imprima a mensagem correspondente."
      ],
      "metadata": {
        "id": "gOSB055j09I1"
      }
    },
    {
      "cell_type": "code",
      "source": [
        "NUMERO = 200\n",
        "if NUMERO > 0:\n",
        "  print(\"Número positivo\")\n",
        "if NUMERO == 0:\n",
        "  print(\"O número é zero\")\n",
        "if NUMERO < 0:\n",
        "  print(\"Número negativo\")"
      ],
      "metadata": {
        "colab": {
          "base_uri": "https://localhost:8080/"
        },
        "id": "BBOW3fT01AVw",
        "outputId": "7e1cc981-d301-4665-b818-6bc6caed0de8"
      },
      "execution_count": 7,
      "outputs": [
        {
          "output_type": "stream",
          "name": "stdout",
          "text": [
            "Número positivo\n"
          ]
        }
      ]
    }
  ]
}