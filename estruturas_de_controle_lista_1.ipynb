{
  "nbformat": 4,
  "nbformat_minor": 0,
  "metadata": {
    "colab": {
      "provenance": [],
      "authorship_tag": "ABX9TyNTvIOi4G3iqZGzeq9thAin",
      "include_colab_link": true
    },
    "kernelspec": {
      "name": "python3",
      "display_name": "Python 3"
    },
    "language_info": {
      "name": "python"
    }
  },
  "cells": [
    {
      "cell_type": "markdown",
      "metadata": {
        "id": "view-in-github",
        "colab_type": "text"
      },
      "source": [
        "<a href=\"https://colab.research.google.com/github/92username/practice_python_repeat_a_lot/blob/main/estruturas_de_controle_lista_1.ipynb\" target=\"_parent\"><img src=\"https://colab.research.google.com/assets/colab-badge.svg\" alt=\"Open In Colab\"/></a>"
      ]
    },
    {
      "cell_type": "markdown",
      "source": [
        "Exercícios de Estruturas de Controle"
      ],
      "metadata": {
        "id": "xJoDMlXK0CAZ"
      }
    },
    {
      "cell_type": "markdown",
      "source": [
        "Nível 1: Exercícios Muito Fáceis (Sintaxe Básica)"
      ],
      "metadata": {
        "id": "erHCVQDb0FMH"
      }
    },
    {
      "cell_type": "markdown",
      "source": [
        "\n",
        "\n",
        "Exercício 1: Crie uma variável idade e atribua o valor 18. Verifique se a idade é maior ou igual a 18 e imprima \"Maior de idade\" ou \"Menor de idade\" com base na condição.\n"
      ],
      "metadata": {
        "id": "oCUgARBQ0HZq"
      }
    },
    {
      "cell_type": "code",
      "source": [
        "IDADE = 18\n",
        "if IDADE >= 18:\n",
        "    print(\"Maior de idade\")\n",
        "else:\n",
        "    print(\"Menor de idade\")\n"
      ],
      "metadata": {
        "colab": {
          "base_uri": "https://localhost:8080/"
        },
        "id": "0-G9p9Eb0Khi",
        "outputId": "3a8292af-cea3-43f0-a4c2-371a3fc23cff"
      },
      "execution_count": null,
      "outputs": [
        {
          "output_type": "stream",
          "name": "stdout",
          "text": [
            "Maior de idade\n"
          ]
        }
      ]
    },
    {
      "cell_type": "markdown",
      "source": [
        "Exercício 2: Crie uma variável numero e atribua um valor. Verifique se o número é positivo, negativo ou zero, e imprima a mensagem correspondente."
      ],
      "metadata": {
        "id": "gOSB055j09I1"
      }
    },
    {
      "cell_type": "code",
      "source": [
        "NUMERO = 200\n",
        "if NUMERO > 0:\n",
        "  print(\"Número positivo\")\n",
        "if NUMERO == 0:\n",
        "  print(\"O número é zero\")\n",
        "if NUMERO < 0:\n",
        "  print(\"Número negativo\")"
      ],
      "metadata": {
        "colab": {
          "base_uri": "https://localhost:8080/"
        },
        "id": "BBOW3fT01AVw",
        "outputId": "7e1cc981-d301-4665-b818-6bc6caed0de8"
      },
      "execution_count": null,
      "outputs": [
        {
          "output_type": "stream",
          "name": "stdout",
          "text": [
            "Número positivo\n"
          ]
        }
      ]
    },
    {
      "cell_type": "markdown",
      "source": [
        "\n",
        "\n",
        "Exercício 3: Crie uma variável temperatura e atribua o valor 30. Verifique se a temperatura é maior que 25 e imprima \"Calor\" ou \"Frio\", conforme o caso.\n"
      ],
      "metadata": {
        "id": "Z-KepzPL3sqK"
      }
    },
    {
      "cell_type": "code",
      "source": [],
      "metadata": {
        "id": "tLEJzRUe3x16"
      },
      "execution_count": null,
      "outputs": []
    },
    {
      "cell_type": "markdown",
      "source": [
        "\n",
        "\n",
        "Exercício 4: Crie uma variável nota e atribua um valor entre 0 e 10. Verifique se a nota é maior ou igual a 7 e imprima \"Aprovado\" ou \"Reprovado\".\n"
      ],
      "metadata": {
        "id": "zkPjf5Tg3yua"
      }
    },
    {
      "cell_type": "code",
      "source": [],
      "metadata": {
        "id": "pP6VkX5430gN"
      },
      "execution_count": null,
      "outputs": []
    },
    {
      "cell_type": "markdown",
      "source": [
        "\n",
        "\n",
        "Exercício 5: Crie uma variável idade e atribua um valor. Se a idade for maior que 12, imprima \"Adolescente\". Caso contrário, imprima \"Criança\".\n"
      ],
      "metadata": {
        "id": "lAy5wN2832RO"
      }
    },
    {
      "cell_type": "code",
      "source": [],
      "metadata": {
        "id": "qL-8fZn_33-4"
      },
      "execution_count": null,
      "outputs": []
    },
    {
      "cell_type": "markdown",
      "source": [
        "\n",
        "\n",
        "Exercício 6: Crie uma variável numero e atribua o valor 10. Se o número for divisível por 2, imprima \"Par\". Caso contrário, imprima \"Ímpar\".\n"
      ],
      "metadata": {
        "id": "BvnruVuZ34Zz"
      }
    },
    {
      "cell_type": "code",
      "source": [],
      "metadata": {
        "id": "o-PqZPP835yu"
      },
      "execution_count": null,
      "outputs": []
    },
    {
      "cell_type": "markdown",
      "source": [
        "\n",
        "\n",
        "Exercício 7: Crie uma variável a e atribua o valor 5. Se o valor de a for maior que 10, imprima \"Maior que 10\". Caso contrário, imprima \"Menor ou igual a 10\".\n"
      ],
      "metadata": {
        "id": "2RA8QrTj36N4"
      }
    },
    {
      "cell_type": "code",
      "source": [],
      "metadata": {
        "id": "mJlmplAc38jr"
      },
      "execution_count": null,
      "outputs": []
    },
    {
      "cell_type": "markdown",
      "source": [
        "\n",
        "\n",
        "Exercício 8: Crie uma variável peso e atribua um valor. Verifique se o peso é maior que 80, e se for, imprima \"Acima do peso\", senão imprima \"Peso normal\".\n"
      ],
      "metadata": {
        "id": "GLDHSon6388A"
      }
    },
    {
      "cell_type": "code",
      "source": [],
      "metadata": {
        "id": "EYGkkOZP3-gR"
      },
      "execution_count": null,
      "outputs": []
    },
    {
      "cell_type": "markdown",
      "source": [
        "\n",
        "\n",
        "Exercício 9: Crie uma variável numero e atribua o valor 0. Verifique se o número é igual a 0 e imprima \"O número é zero\".\n"
      ],
      "metadata": {
        "id": "9zy_YbrF3-1X"
      }
    },
    {
      "cell_type": "code",
      "source": [],
      "metadata": {
        "id": "C9kqD9Qs4AgH"
      },
      "execution_count": null,
      "outputs": []
    },
    {
      "cell_type": "markdown",
      "source": [
        "\n",
        "\n",
        "Exercício 10: Crie uma variável nota e atribua a ela uma nota entre 0 e 10. Se a nota for maior que 5, imprima \"Passou\", senão imprima \"Reprovou\".\n"
      ],
      "metadata": {
        "id": "4Qm2z9LG4BGu"
      }
    },
    {
      "cell_type": "code",
      "source": [],
      "metadata": {
        "id": "dKw8A3lQ4DGG"
      },
      "execution_count": null,
      "outputs": []
    },
    {
      "cell_type": "markdown",
      "source": [
        "\n",
        "\n",
        "Exercício 11: Crie uma variável nome e atribua um valor. Se o nome for igual a \"Maria\", imprima \"Nome correto\", caso contrário, imprima \"Nome incorreto\".\n"
      ],
      "metadata": {
        "id": "RerT4MRl4DWm"
      }
    },
    {
      "cell_type": "code",
      "source": [],
      "metadata": {
        "id": "WTSq9lhM4E2B"
      },
      "execution_count": null,
      "outputs": []
    },
    {
      "cell_type": "markdown",
      "source": [
        "\n",
        "\n",
        "Exercício 12: Crie uma variável idade e atribua um valor. Verifique se a idade é maior que 20. Se for, imprima \"Maior de 20 anos\", senão imprima \"Menor ou igual a 20 anos\".\n"
      ],
      "metadata": {
        "id": "6E9DxIgt4G2s"
      }
    },
    {
      "cell_type": "code",
      "source": [],
      "metadata": {
        "id": "bBN39lEP4Jn8"
      },
      "execution_count": null,
      "outputs": []
    },
    {
      "cell_type": "markdown",
      "source": [
        "\n",
        "\n",
        "Exercício 13: Crie uma variável ano e atribua o valor 2024. Verifique se o ano é bissexto (divisível por 4) e imprima \"Ano bissexto\" ou \"Ano não bissexto\".\n"
      ],
      "metadata": {
        "id": "Gxj8hm6c4KE2"
      }
    },
    {
      "cell_type": "code",
      "source": [],
      "metadata": {
        "id": "ocfa2ZlH4L0k"
      },
      "execution_count": null,
      "outputs": []
    },
    {
      "cell_type": "markdown",
      "source": [
        "\n",
        "\n",
        "Exercício 14: Crie uma variável numero e atribua um valor. Se o número for maior que 50, imprima \"Valor grande\". Caso contrário, imprima \"Valor pequeno\".\n"
      ],
      "metadata": {
        "id": "-6QoGHqK4Mob"
      }
    },
    {
      "cell_type": "code",
      "source": [],
      "metadata": {
        "id": "63ysK5pr4OHJ"
      },
      "execution_count": null,
      "outputs": []
    }
  ]
}