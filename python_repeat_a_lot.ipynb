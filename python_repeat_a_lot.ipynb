{
  "nbformat": 4,
  "nbformat_minor": 0,
  "metadata": {
    "colab": {
      "provenance": [],
      "authorship_tag": "ABX9TyMidrW6FkAW2zU6h+GTR8VX",
      "include_colab_link": true
    },
    "kernelspec": {
      "name": "python3",
      "display_name": "Python 3"
    },
    "language_info": {
      "name": "python"
    }
  },
  "cells": [
    {
      "cell_type": "markdown",
      "metadata": {
        "id": "view-in-github",
        "colab_type": "text"
      },
      "source": [
        "<a href=\"https://colab.research.google.com/github/92username/practice_python_repeat_a_lot/blob/main/python_repeat_a_lot.ipynb\" target=\"_parent\"><img src=\"https://colab.research.google.com/assets/colab-badge.svg\" alt=\"Open In Colab\"/></a>"
      ]
    },
    {
      "cell_type": "code",
      "execution_count": 4,
      "metadata": {
        "colab": {
          "base_uri": "https://localhost:8080/"
        },
        "id": "092NvPlCl1Ur",
        "outputId": "05c205ff-2fed-4899-bb85-1b0fec283459"
      },
      "outputs": [
        {
          "output_type": "stream",
          "name": "stdout",
          "text": [
            "0\n",
            "1\n",
            "1\n",
            "2\n",
            "3\n",
            "5\n",
            "8\n",
            "13\n",
            "21\n",
            "34\n",
            "55\n",
            "89\n",
            "144\n",
            "233\n",
            "377\n",
            "610\n",
            "987\n",
            "1597\n"
          ]
        }
      ],
      "source": [
        "a, b = 0, 1\n",
        "\n",
        "while a < 2000:\n",
        "\n",
        "    print(a)\n",
        "\n",
        "    a, b = b, a+b"
      ]
    },
    {
      "cell_type": "markdown",
      "source": [
        "## Exercício 1:\n",
        "Crie uma variável chamada `nome` e outra chamada `idade`. Atribua valores a elas e exiba:\n"
      ],
      "metadata": {
        "id": "nZija0Ww73aj"
      }
    },
    {
      "cell_type": "code",
      "source": [
        "nome = \"Arlindo Cruz\"\n",
        "idade = 70\n",
        "print(f\"Meu nome é {nome} e tenho {idade} anos\")"
      ],
      "metadata": {
        "colab": {
          "base_uri": "https://localhost:8080/"
        },
        "id": "-iAzWzXv8FsI",
        "outputId": "83e2f846-1c3a-4502-df08-49a53d3c9df4"
      },
      "execution_count": 5,
      "outputs": [
        {
          "output_type": "stream",
          "name": "stdout",
          "text": [
            "Meu nome é Arlindo Cruz e tenho 70 anos\n"
          ]
        }
      ]
    },
    {
      "cell_type": "markdown",
      "source": [
        "## Exercício 2:\n",
        "Crie duas variáveis `a` e `b` com valores inteiros. Troque os valores sem usar uma variável auxiliar.\n"
      ],
      "metadata": {
        "id": "sVDkZo3j8ZPX"
      }
    },
    {
      "cell_type": "code",
      "source": [
        "a,b = 7, 49\n",
        "print(f\"variavel a é {a} e variável b é {b}\")\n",
        "a,b = b,a\n",
        "print(f\"agora variavel a é {a} e variável b é {b}\")"
      ],
      "metadata": {
        "colab": {
          "base_uri": "https://localhost:8080/"
        },
        "id": "463__bQ68e7U",
        "outputId": "c3ade64f-703f-4741-f4d8-8983721698a6"
      },
      "execution_count": 6,
      "outputs": [
        {
          "output_type": "stream",
          "name": "stdout",
          "text": [
            "variavel a é 7 e variável b é 49\n",
            "agora variavel a é 49 e variável b é 7\n"
          ]
        }
      ]
    },
    {
      "cell_type": "markdown",
      "source": [
        "## Exercício 8:\n",
        "Atribua um valor booleano (`True` ou `False`) a uma variável `chave` e exiba o tipo dessa variável usando `type()`."
      ],
      "metadata": {
        "id": "YvINS01G87Nl"
      }
    },
    {
      "cell_type": "code",
      "source": [
        "chave = False\n",
        "print(type(chave))\n"
      ],
      "metadata": {
        "colab": {
          "base_uri": "https://localhost:8080/"
        },
        "id": "7y3bXNLq9HO3",
        "outputId": "a4e27f34-0e57-4858-9e5a-9a2b3af7b3f6"
      },
      "execution_count": 10,
      "outputs": [
        {
          "output_type": "stream",
          "name": "stdout",
          "text": [
            "<class 'bool'>\n"
          ]
        }
      ]
    },
    {
      "cell_type": "markdown",
      "source": [
        "## Exercício 9:\n",
        "Armazene o valor `1234` em uma variável `numero`. Converta para uma string e exiba quantos dígitos ela possui.\n"
      ],
      "metadata": {
        "id": "Yuek9LPH-JSa"
      }
    },
    {
      "cell_type": "code",
      "source": [
        "numero = 1234\n",
        "numero =str(numero)\n",
        "print(len(numero))\n"
      ],
      "metadata": {
        "colab": {
          "base_uri": "https://localhost:8080/"
        },
        "id": "t5rgUO0c-KRc",
        "outputId": "ed5ca9e7-1f40-42f9-db41-6c832e3e783c"
      },
      "execution_count": 13,
      "outputs": [
        {
          "output_type": "stream",
          "name": "stdout",
          "text": [
            "4\n"
          ]
        }
      ]
    },
    {
      "cell_type": "markdown",
      "source": [
        "## Exercício 10:\n",
        "Defina três variáveis: `a = 5`, `b = 10`, e `c = 2`. Realize a expressão:\n",
        "```\n",
        "resultado = a * (b + c) / c\n",
        "```\n"
      ],
      "metadata": {
        "id": "K5PFSCD0_3l-"
      }
    },
    {
      "cell_type": "code",
      "source": [
        "a,b,c = 5, 10, 2\n",
        "resultado = a * (b+c) / c\n",
        "print(resultado)"
      ],
      "metadata": {
        "colab": {
          "base_uri": "https://localhost:8080/"
        },
        "id": "Ke6sWm-A_4pG",
        "outputId": "522621ef-950e-475f-c4df-2da517ef04bd"
      },
      "execution_count": 14,
      "outputs": [
        {
          "output_type": "stream",
          "name": "stdout",
          "text": [
            "30.0\n"
          ]
        }
      ]
    },
    {
      "cell_type": "markdown",
      "source": [
        "## Exercício 12:\n",
        "Atribua valores a duas variáveis `x` e `y`. Inverta os valores utilizando a técnica de múltipla atribuição.\n"
      ],
      "metadata": {
        "id": "lkoyJkxUAPG4"
      }
    },
    {
      "cell_type": "code",
      "source": [
        "x, y = 7, 45\n",
        "print(x,y)\n",
        "x, y = y, x\n",
        "print(x,y)"
      ],
      "metadata": {
        "colab": {
          "base_uri": "https://localhost:8080/"
        },
        "id": "k1kwsDkuAQJx",
        "outputId": "d8144975-115e-4d88-c751-9d1dbd6c1043"
      },
      "execution_count": 15,
      "outputs": [
        {
          "output_type": "stream",
          "name": "stdout",
          "text": [
            "7 45\n",
            "45 7\n"
          ]
        }
      ]
    },
    {
      "cell_type": "markdown",
      "source": [
        "## Exercício 13:\n",
        "Defina uma variável `fruta` e atribua o valor `\"maçã\"`. Use `len()` para contar quantos caracteres existem na string.\n"
      ],
      "metadata": {
        "id": "9yatrZDkAjBm"
      }
    },
    {
      "cell_type": "code",
      "source": [
        "fruta = \"Maçã\"\n",
        "print(len(fruta))"
      ],
      "metadata": {
        "colab": {
          "base_uri": "https://localhost:8080/"
        },
        "id": "6wM4tkN7Aj_j",
        "outputId": "22b1be3c-2c6b-4bc3-8502-2f75d04a33c7"
      },
      "execution_count": 16,
      "outputs": [
        {
          "output_type": "stream",
          "name": "stdout",
          "text": [
            "4\n"
          ]
        }
      ]
    },
    {
      "cell_type": "markdown",
      "source": [
        "## Exercício 14:\n",
        "Armazene dois valores nas variáveis `numero1` e `numero2`. Arredonde a média deles para 2 casas decimais.\n"
      ],
      "metadata": {
        "id": "BBluWnbmAyzS"
      }
    },
    {
      "cell_type": "code",
      "source": [
        "numero1, numero2 = 7, 6\n",
        "calcula_media = (numero1 + numero2) / 2\n",
        "print(f\"A media de numero1 e numero2 com precisão de duas casas decimais é {calcula_media:.2f}\")"
      ],
      "metadata": {
        "colab": {
          "base_uri": "https://localhost:8080/"
        },
        "id": "TC3zNGpqAzvn",
        "outputId": "777d6fe3-d0d3-4fcb-918c-e13d4ad1ae32"
      },
      "execution_count": 19,
      "outputs": [
        {
          "output_type": "stream",
          "name": "stdout",
          "text": [
            "A media de numero1 e numero2 com precisão de duas casas decimais é 6.50\n"
          ]
        }
      ]
    },
    {
      "cell_type": "markdown",
      "source": [],
      "metadata": {
        "id": "Mcsd9QMtBWrk"
      }
    },
    {
      "cell_type": "markdown",
      "source": [
        "## Exercício 15:\n",
        "Crie uma variável `salario` e atribua um valor. Aumente o salário em 15% e exiba o valor atualizado.\n"
      ],
      "metadata": {
        "id": "tHuwQ01bBxdI"
      }
    },
    {
      "cell_type": "code",
      "source": [
        "salario, aumento = 2200, 0.15\n",
        "salario_aumento = salario + (salario * aumento)\n",
        "print(salario_aumento)"
      ],
      "metadata": {
        "colab": {
          "base_uri": "https://localhost:8080/"
        },
        "id": "FA-tEuqsB1mw",
        "outputId": "8dc86b01-b422-4630-e013-d376b2e41efb"
      },
      "execution_count": 21,
      "outputs": [
        {
          "output_type": "stream",
          "name": "stdout",
          "text": [
            "2530.0\n"
          ]
        }
      ]
    },
    {
      "cell_type": "markdown",
      "source": [
        "## Exercício 16:\n",
        "Armazene uma frase em uma variável chamada `texto`. Substitua todas as ocorrências da palavra \"Python\" por \"Dart\".\n"
      ],
      "metadata": {
        "id": "nXU8w1IyCiNs"
      }
    },
    {
      "cell_type": "code",
      "source": [
        "texto = \"Python é uma linguagem de programação\"\n",
        "texto = texto.replace(\"Python\", \"Dart\")\n",
        "print(texto)\n"
      ],
      "metadata": {
        "id": "nBAmROlWCjK4"
      },
      "execution_count": null,
      "outputs": []
    },
    {
      "cell_type": "markdown",
      "source": [
        "o mesmo exercicio anterior, mas sem AI e trocando o texto.  de Gato para Nego preto."
      ],
      "metadata": {
        "id": "K4gR-dsyDn8-"
      }
    },
    {
      "cell_type": "code",
      "source": [
        "texto = \"Eu tenho um gato que eu apelidei de Nego Preto\"\n",
        "print(texto)\n",
        "texto = texto.replace(\"Nego Preto\", \"Clarinha\")\n",
        "print(texto)"
      ],
      "metadata": {
        "colab": {
          "base_uri": "https://localhost:8080/"
        },
        "id": "DB6aFZy4DzEr",
        "outputId": "c969f0cf-6500-46d0-9dcb-1f26fbb893f8"
      },
      "execution_count": 25,
      "outputs": [
        {
          "output_type": "stream",
          "name": "stdout",
          "text": [
            "Eu tenho um gato que eu apelidei de Nego Preto\n",
            "Eu tenho um gato que eu apelidei de Clarinha\n"
          ]
        }
      ]
    },
    {
      "cell_type": "markdown",
      "source": [
        "## Exercício 17:\n",
        "Defina duas variáveis `base` e `altura`. Calcule a área de um triângulo:\n",
        "```\n",
        "area = (base * altura) / 2"
      ],
      "metadata": {
        "id": "lajx2mDcET5v"
      }
    },
    {
      "cell_type": "code",
      "source": [
        "base, altura = 7, 8\n",
        "area = (base*altura)/2\n",
        "print(area)"
      ],
      "metadata": {
        "colab": {
          "base_uri": "https://localhost:8080/"
        },
        "id": "rU6NeCBkEVM0",
        "outputId": "f3e16857-6c69-4584-8421-d3fd08820ae9"
      },
      "execution_count": 26,
      "outputs": [
        {
          "output_type": "stream",
          "name": "stdout",
          "text": [
            "28.0\n"
          ]
        }
      ]
    },
    {
      "cell_type": "markdown",
      "source": [
        "## Exercício 18:\n",
        "Crie uma variável `idade` e outra `ano_nascimento`. Calcule o ano atual subtraindo:\n",
        "```\n",
        "ano_atual = ano_nascimento + idade\n",
        "```\n"
      ],
      "metadata": {
        "id": "wXa1pnQrEgSL"
      }
    },
    {
      "cell_type": "code",
      "source": [
        "idade = 45\n",
        "ano_nascimento = 1978\n",
        "ano_atual = ano_nascimento + idade\n",
        "print(ano_atual)"
      ],
      "metadata": {
        "colab": {
          "base_uri": "https://localhost:8080/"
        },
        "id": "790FoWRsElan",
        "outputId": "a850c7fb-2a0e-4bf3-ef5f-9e571ce4d53c"
      },
      "execution_count": 27,
      "outputs": [
        {
          "output_type": "stream",
          "name": "stdout",
          "text": [
            "2023\n"
          ]
        }
      ]
    },
    {
      "cell_type": "markdown",
      "source": [
        "## Exercício 19:\n",
        "Armazene uma string contendo números separados por vírgulas (`\"1,2,3,4,5\"`). Divida essa string em uma lista.\n"
      ],
      "metadata": {
        "id": "2KDGC48GE4eo"
      }
    },
    {
      "cell_type": "code",
      "source": [
        "numeros = \"1,2,3,4,5\"\n",
        "lista_numeros = numeros.split(\",\")\n",
        "print(lista_numeros)"
      ],
      "metadata": {
        "colab": {
          "base_uri": "https://localhost:8080/"
        },
        "id": "3g9eT8jAE8vD",
        "outputId": "4f71fa58-fee4-4ca2-a558-3b6b2680430d"
      },
      "execution_count": 31,
      "outputs": [
        {
          "output_type": "stream",
          "name": "stdout",
          "text": [
            "['1', '2', '3', '4', '5']\n"
          ]
        }
      ]
    },
    {
      "cell_type": "markdown",
      "source": [
        "## Exercício 20:\n",
        "Atribua valores às variáveis `distancia` e `tempo`. Calcule a velocidade média usando:\n",
        "```\n",
        "velocidade = distancia / tempo\n",
        "```\n"
      ],
      "metadata": {
        "id": "JcfjNLoUF5FN"
      }
    },
    {
      "cell_type": "code",
      "source": [
        "distancia, tempo = 200, 2\n",
        "velocidade = distancia / tempo\n",
        "print(velocidade)"
      ],
      "metadata": {
        "colab": {
          "base_uri": "https://localhost:8080/"
        },
        "id": "bfC15g9FF_qv",
        "outputId": "f7d93e8c-d5c6-47c0-cf0b-598eb505f0d4"
      },
      "execution_count": 32,
      "outputs": [
        {
          "output_type": "stream",
          "name": "stdout",
          "text": [
            "100.0\n"
          ]
        }
      ]
    },
    {
      "cell_type": "markdown",
      "source": [
        "## Exercício 21:\n",
        "Crie uma variável `numero` com um valor inteiro. Converta esse número para **float** e **string**, exibindo os três valores."
      ],
      "metadata": {
        "id": "d301hR89GK0j"
      }
    },
    {
      "cell_type": "code",
      "source": [
        "numero = 10              # Atribuindo um valor inteiro\n",
        "numero_float = float(numero)  # Convertendo para float\n",
        "numero_string = str(numero)   # Convertendo para string\n",
        "\n",
        "# Exibindo os três valores\n",
        "print(numero)            # Exibe o valor inteiro\n",
        "print(numero_float)      # Exibe o valor em ponto flutuante\n",
        "print(numero_string)     # Exibe o valor como string\n"
      ],
      "metadata": {
        "colab": {
          "base_uri": "https://localhost:8080/"
        },
        "id": "7Y-tIYqkGLvd",
        "outputId": "f32864a8-346d-4631-e128-f0ed1fd9677f"
      },
      "execution_count": 34,
      "outputs": [
        {
          "output_type": "stream",
          "name": "stdout",
          "text": [
            "10\n",
            "10.0\n",
            "10\n"
          ]
        }
      ]
    },
    {
      "cell_type": "code",
      "source": [
        "number = 315\n",
        "print(number)\n",
        "number_float = float(number)\n",
        "print(f\"{number:.2f}\")\n",
        "number_string = str(number)\n",
        "print(number)\n"
      ],
      "metadata": {
        "colab": {
          "base_uri": "https://localhost:8080/"
        },
        "id": "Z1tr0AzDG2AO",
        "outputId": "8f27a393-1b7a-494a-e8d4-1bc11f82dee1"
      },
      "execution_count": 36,
      "outputs": [
        {
          "output_type": "stream",
          "name": "stdout",
          "text": [
            "315\n",
            "315.00\n",
            "315\n"
          ]
        }
      ]
    },
    {
      "cell_type": "markdown",
      "source": [
        "## Exercício 22:\n",
        "Defina a variável `valor_inicial` com 1000. Aplique um desconto de 10% e exiba o valor final.\n"
      ],
      "metadata": {
        "id": "BrVnhWrRHvnb"
      }
    },
    {
      "cell_type": "code",
      "source": [
        "valor_inicial = 1000\n",
        "desconto = 0.1\n",
        "valor_final = valor_inicial - (valor_inicial * desconto)\n",
        "print(valor_final)"
      ],
      "metadata": {
        "colab": {
          "base_uri": "https://localhost:8080/"
        },
        "id": "oATKg7bVH34u",
        "outputId": "9a194f7c-876e-4bb1-8992-afa2be7ab3df"
      },
      "execution_count": 37,
      "outputs": [
        {
          "output_type": "stream",
          "name": "stdout",
          "text": [
            "900.0\n"
          ]
        }
      ]
    },
    {
      "cell_type": "markdown",
      "source": [
        "## Exercício 23:\n",
        "Armazene um número decimal em uma variável `numero`. Use `round()` para arredondá-lo para a parte inteira.\n"
      ],
      "metadata": {
        "id": "hC1UxJvPIJOz"
      }
    },
    {
      "cell_type": "code",
      "source": [
        "numero = 7.33\n",
        "resultado = round(numero)\n",
        "print(resultado)"
      ],
      "metadata": {
        "colab": {
          "base_uri": "https://localhost:8080/"
        },
        "id": "NuLIrqXQIOlo",
        "outputId": "f2870b6c-6a18-483a-f125-59db7842fb94"
      },
      "execution_count": 39,
      "outputs": [
        {
          "output_type": "stream",
          "name": "stdout",
          "text": [
            "7\n"
          ]
        }
      ]
    },
    {
      "cell_type": "markdown",
      "source": [
        "## Exercício 24:\n",
        "Crie uma variável `texto` com a frase \"Aprendendo Python\". Use o método `.upper()` para exibir a frase em letras maiúsculas.\n"
      ],
      "metadata": {
        "id": "sGE-KL8rI_mf"
      }
    },
    {
      "cell_type": "code",
      "source": [
        "texto = \"Aprendendo Python\"\n",
        "resultado = texto.upper()\n",
        "print(resultado)"
      ],
      "metadata": {
        "colab": {
          "base_uri": "https://localhost:8080/"
        },
        "id": "nSZ0poulJAX8",
        "outputId": "6ba18dbb-a6d8-4cc5-cbc0-414960d2a04b"
      },
      "execution_count": 40,
      "outputs": [
        {
          "output_type": "stream",
          "name": "stdout",
          "text": [
            "APRENDENDO PYTHON\n"
          ]
        }
      ]
    },
    {
      "cell_type": "markdown",
      "source": [
        "## Exercício 25:\n",
        "Armazene uma variável chamada `repeticoes` com valor `5`. Use a multiplicação de strings para exibir:\n",
        "```\n",
        "Python Python Python Python Python\n",
        "```"
      ],
      "metadata": {
        "id": "nGBpd6qNJRXj"
      }
    },
    {
      "cell_type": "code",
      "source": [
        "repeticoes = 5\n",
        "texto = \"Python \"\n",
        "resultado = texto * repeticoes\n",
        "print(resultado)"
      ],
      "metadata": {
        "colab": {
          "base_uri": "https://localhost:8080/"
        },
        "id": "Yx-ZuwRDJTSw",
        "outputId": "edc0b291-bba6-4660-d94d-33b5c3d36afb"
      },
      "execution_count": 42,
      "outputs": [
        {
          "output_type": "stream",
          "name": "stdout",
          "text": [
            "Python Python Python Python Python \n"
          ]
        }
      ]
    }
  ]
}